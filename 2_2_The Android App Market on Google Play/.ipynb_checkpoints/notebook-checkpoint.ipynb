{
 "cells": [
  {
   "cell_type": "markdown",
   "metadata": {},
   "source": [
    "## 1. Introduction\n",
    "<p><img src=\"https://cdn.worldvectorlogo.com/logos/google-play.svg\" alt=\"Google Play logo\"></p>\n",
    "<p>Mobile apps are everywhere. They are easy to create and can be very lucrative from the business standpoint. Specifically, Android is expanding as an operating system and has captured more than 74% of the total market<sup><a href=\"https://www.statista.com/statistics/272698/global-market-share-held-by-mobile-operating-systems-since-2009\">[1]</a></sup>. </p>\n",
    "<p>The Google Play Store apps data has enormous potential to facilitate data-driven decisions and insights for businesses. In this notebook, we will analyze the Android app market by comparing ~10k apps in Google Play across different categories. We will also use the user reviews to draw a qualitative comparision between the apps.</p>\n",
    "\n",
    "<div style=\"background-color: #efebe4; color: #05192d; text-align:left; vertical-align: middle; padding: 15px 25px 15px 25px; line-height: 1.6;\">\n",
    "    <div style=\"font-size:20px\"><b>datasets/apps.csv</b></div>\n",
    "This file contains all the details of the apps on Google Play. There are 9 features that describe a given app.\n",
    "<ul>\n",
    "    <li><b>App:</b> Name of the app</li>\n",
    "    <li><b>Category:</b> Category of the app. Some examples are: ART_AND_DESIGN, FINANCE, COMICS, BEAUTY etc.</li>\n",
    "    <li><b>Rating:</b> The current average rating (out of 5) of the app on Google Play</li>\n",
    "    <li><b>Reviews:</b> Number of user reviews given on the app</li>\n",
    "    <li><b>Size:</b> Size of the app in MB (megabytes)</li>\n",
    "    <li><b>Installs:</b> Number of times the app was downloaded from Google Play</li>\n",
    "    <li><b>Type:</b> Whether the app is paid or free</li>\n",
    "    <li><b>Price:</b> Price of the app in US$</li>\n",
    "    <li><b>Last Updated:</b> Date on which the app was last updated on Google Play </li>\n",
    "\n",
    "</ul>\n",
    "</div>\n",
    "<div style=\"background-color: #efebe4; color: #05192d; text-align:left; vertical-align: middle; padding: 15px 25px 15px 25px; line-height: 1.6;\">\n",
    "    <div style=\"font-size:20px\"><b>datasets/user_reviews.csv</b></div>\n",
    "This file contains a random sample of 100 <i>[most helpful first](https://www.androidpolice.com/2019/01/21/google-play-stores-redesigned-ratings-and-reviews-section-lets-you-easily-filter-by-star-rating/)</i> user reviews for each app. The text in each review has been pre-processed and passed through a sentiment analyzer.\n",
    "<ul>\n",
    "    <li><b>App:</b> Name of the app on which the user review was provided. Matches the `App` column of the `apps.csv` file</li>\n",
    "    <li><b>Review:</b> The pre-processed user review text</li>\n",
    "    <li><b>Sentiment Category:</b> Sentiment category of the user review - Positive, Negative or Neutral</li>\n",
    "    <li><b>Sentiment Score:</b> Sentiment score of the user review. It lies between [-1,1]. A higher score denotes a more positive sentiment.</li>\n",
    "\n",
    "</ul>\n",
    "</div>"
   ]
  },
  {
   "cell_type": "markdown",
   "metadata": {},
   "source": [
    "## 2. Instructions\n",
    "You work as a Data Analyst for a finance company which is closely eyeing the Android market before it launches its new app into Google Play. You have been asked to present an analysis of Google Play apps so that the team gets a comprehensive overview of different categories of apps, their ratings, and other metrics. This will require you to use your data manipulation and data analysis skills.\n",
    "\n",
    "Your three questions are as follows:\n",
    "\n",
    "<b>Part 1.</b> Read the apps.csv file and clean the Installscolumn to convert it into integer data type. Save your answer as a DataFrame apps. Going forward, you will do all your analysis on the apps DataFrame.\n",
    "\n",
    "<b>Part 2.</b> Find the number of apps in each category, the average price, and the average rating. Save your answer as a DataFrame app_category_info. Your should rename the four columns as: Category, Number of apps, Average price, Average rating.\n",
    "\n",
    "<b>Part 3.</b> Find the top 10 free FINANCE apps having the highest average sentiment score. Save your answer as a DataFrame top_10_user_feedback. Your answer should have exactly 10 rows and two columns named: App and Sentiment Score, where the average Sentiment Score is sorted from highest to lowest."
   ]
  },
  {
   "cell_type": "code",
   "execution_count": 2,
   "metadata": {},
   "outputs": [],
   "source": [
    "#Part 1\n",
    "#------\n",
    "\n",
    "#import libraries\n",
    "import pandas as pd\n",
    "\n",
    "#read file\n",
    "apps = pd.read_csv('datasets/apps.csv')\n",
    "\n",
    "#getting rid of unwanted characters in the installs column\n",
    "apps['Installs'] = apps['Installs'].str.replace(r'\\D', '')\n",
    "\n",
    "#converting the installs column to a integar type\n",
    "apps['Installs'] = pd.to_numeric(apps['Installs'])"
   ]
  },
  {
   "cell_type": "code",
   "execution_count": 3,
   "metadata": {},
   "outputs": [],
   "source": [
    "#Part 2\n",
    "#------\n",
    "#Calculate the mean & count \n",
    "app_category_info = apps.groupby(\"Category\", as_index=False).agg({\"App\": \"count\", \"Price\" : \"mean\", \"Rating\" : \"mean\"})\n",
    "\n",
    "#renamee the columns\n",
    "app_category_info = app_category_info.rename(columns={\"App\": \"Number of apps\", \"Price\" : \"Average price\", \"Rating\" : \"Average rating\"})"
   ]
  },
  {
   "cell_type": "code",
   "execution_count": 4,
   "metadata": {},
   "outputs": [],
   "source": [
    "#Part 3\n",
    "#------\n",
    "\n",
    "#read file\n",
    "user_reviews = pd.read_csv('datasets/user_reviews.csv')\n",
    "\n",
    "#select only the free finance apps\n",
    "free = apps[apps['Type'] == 'Free']\n",
    "finance_apps = free[free['Category'] == 'FINANCE']\n",
    "\n",
    "#merge tables\n",
    "merged_table = user_reviews.merge(finance_apps, on='App')\n",
    "\n",
    "#Calculate the average sentiment score\n",
    "sentiment_score = merged_table.groupby(\"App\", as_index=False).agg({\"Sentiment Score\": \"mean\"})\n",
    "\n",
    "#sort the table\n",
    "sorted_sentiment_score = sentiment_score.sort_values(by = 'Sentiment Score', ascending=False)\n",
    "\n",
    "#top 10 free finance apps\n",
    "top_10_user_feedback = sorted_sentiment_score[:10]"
   ]
  },
  {
   "cell_type": "code",
   "execution_count": 5,
   "metadata": {},
   "outputs": [
    {
     "name": "stdout",
     "output_type": "stream",
     "text": [
      "                                           App  Sentiment Score\n",
      "6                                   BBVA Spain         0.515086\n",
      "4               Associated Credit Union Mobile         0.388093\n",
      "9                          BankMobile Vibe App         0.353455\n",
      "0                                    A+ Mobile         0.329592\n",
      "29   Current debit card and app made for teens         0.327258\n",
      "7                               BZWBK24 mobile         0.326883\n",
      "34  Even - organize your money, get paid early         0.283929\n",
      "26                                Credit Karma         0.270052\n",
      "39                Fortune City - A Finance App         0.266966\n",
      "15                                      Branch         0.264230\n",
      "(10, 2)\n"
     ]
    }
   ],
   "source": [
    "#output\n",
    "print(top_10_user_feedback)\n",
    "\n",
    "#shape of output\n",
    "print(top_10_user_feedback.shape)"
   ]
  }
 ],
 "metadata": {
  "kernelspec": {
   "display_name": "Python 3",
   "language": "python",
   "name": "python3"
  },
  "language_info": {
   "codemirror_mode": {
    "name": "ipython",
    "version": 3
   },
   "file_extension": ".py",
   "mimetype": "text/x-python",
   "name": "python",
   "nbconvert_exporter": "python",
   "pygments_lexer": "ipython3",
   "version": "3.8.5"
  }
 },
 "nbformat": 4,
 "nbformat_minor": 4
}
