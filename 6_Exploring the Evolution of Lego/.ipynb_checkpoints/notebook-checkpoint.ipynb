{
 "cells": [
  {
   "cell_type": "markdown",
   "metadata": {},
   "source": [
    "## # 1. Introduction\n",
    "<p><img class=\"center\" src=\"https://www.scifinow.co.uk/wp-content/uploads/2016/07/LSWTFA_E3_Rey_Finn_BB8_1465839179.jpeg\" alt=\"A picture of Lego characters!\"></p>\n",
    "<h3 id=\"letslookatlegosets\">Lego sets!</h3>\n",
    "<p>Lego is a household name across the world, supported by a diverse toy line, hit movies, and a series of successful video games. In this project, we are going to explore a key development in the history of Lego: the introduction of licensed sets such as Star Wars, Super Heroes, and Harry Potter.</p>\n",
    "<p>It may not be widely known, but Lego has had its share of ups and downs since its inception in the early 20th century. This includes a particularly rough period in the late 90s. As described in <a href=\"https://www.businessinsider.com/how-lego-made-a-huge-turnaround-2014-2?r=US&IR=T\">this article</a>, Lego was only able to survive due to a successful internal brand (Bionicle) and the introduction of its first licensed series: Star Wars. In the instructions panel are the two questions you will need to answer to complete this project.</p>\n",
    "<p>Before diving into our analysis though, let's become familiar with the two datasets that will help you with this project:<br><br></p>\n",
    "<div style=\"background-color: #ebf4f7; color: #595959; text-align:left; vertical-align: middle; padding: 15px 25px 15px 25px; line-height: 1.6;\">\n",
    "    <div style=\"font-size:20px\"><b>datasets/lego_sets.csv</b></div>\n",
    "<ul>\n",
    "    <li><b>set_num:</b> A code that is unique to each set in the dataset. <b><i>This column is critical, and a missing value indicates the set is a duplicate or invalid!</i></b></li>\n",
    "    <li><b>set_name:</b> A name for every set in the dataset (note that this can be the same for different sets).</li>\n",
    "    <li><b>year:</b> The date the set was released.</li>\n",
    "    <li><b>num_parts:</b> The number of parts contained in the set.<b><i> This column is not central to our analyses, so missing values are acceptable.</i></b></li>\n",
    "        <li><b>theme_name:</b> The name of the sub-theme of the set.</li>\n",
    "    <li><b>parent_theme:</b> The name of the parent theme the set belongs to. Matches the `name` column of the `parent_themes` csv file.</li>\n",
    "</ul>\n",
    "\n",
    "<div style=\"font-size:20px\"><b>datasets/parent_themes.csv</b></div>\n",
    "<ul>\n",
    "    <li><b>id:</b> A code that is unique to every theme.</li>\n",
    "    <li><b>name:</b> The name of the parent theme.</li>\n",
    "    <li><b>is_licensed:</b> A Boolean column specifying whether the theme is a licensed theme.</li>\n",
    "</ul>\n",
    "    </div>\n",
    "<p>From here on out, it will be your task to explore and manipulate the existing data until you are able to answer the two questions described in the instructions panel. Feel free to add as many cells as necessary. Finally, remember that you are only tested on your answer, not on the methods you use to arrive at the answer!</p>"
   ]
  },
  {
   "cell_type": "markdown",
   "metadata": {},
   "source": [
    "## # 2. Instructions\n",
    "\n",
    "You are a Data Analyst at Lego working with the Sales/Customer Success teams. The Account Executive responsible for the Star Wars partnership has asked for specific information in preparation for their meeting with the Star Wars team. Although Star Wars was critical to the survival of the brand, Lego has since introduced a wide variety of licensed sets over subsequent years.\n",
    "\n",
    "Your two questions are as follows:\n",
    "\n",
    "<b>1.</b> What percentage of all licensed sets ever released were Star Wars themed? Save your answer as a variable the_force in the form of an integer (e.g. 25).\n",
    "\n",
    "<b>2.</b> In which year was Star Wars not the most popular licensed theme (in terms of number of sets released that year)? Save your answer as a variable new_era in the form of an integer (e.g. 2012).\n",
    "\n",
    "The method through which you approach this question is up to you, but one thing to keep in mind is that the dataset is not necessarily clean, and may require the removal rows where there are values missing from critical columns."
   ]
  },
  {
   "cell_type": "code",
   "execution_count": 300,
   "metadata": {},
   "outputs": [
    {
     "name": "stdout",
     "output_type": "stream",
     "text": [
      "51% of all licensed sets ever released were Star Wars themed\n"
     ]
    }
   ],
   "source": [
    "#Part 1\n",
    "#------\n",
    "\n",
    "#import libraries\n",
    "import pandas as pd\n",
    "\n",
    "#read files\n",
    "lego_sets = pd.read_csv('datasets/lego_sets.csv')\n",
    "themes = pd.read_csv('datasets/parent_themes.csv')\n",
    "\n",
    "#merge tables\n",
    "merged_table = lego_sets.merge(themes, left_on='parent_theme', right_on = 'name')\n",
    "\n",
    "#get licensed set\n",
    "licensed = merged_table[merged_table['is_licensed'] == True]\n",
    "\n",
    "#get star wars set which is licensed\n",
    "star_wars_set = licensed[licensed['parent_theme'] == 'Star Wars']\n",
    "\n",
    "#drop duplicate rows and count the total number of licensed sets as well as the number of star wars sets\n",
    "number_of_star_wars_set = star_wars_set['set_num'].drop_duplicates().count()\n",
    "number_of_licensed_set = licensed['set_num'].drop_duplicates().count()\n",
    "\n",
    "#calculate the percentage of star wars sets in the total number of ssets\n",
    "the_force = int((number_of_star_wars_set / number_of_licensed_set) * 100)\n",
    "\n",
    "#output\n",
    "print(str(the_force) + \"% of all licensed sets ever released were Star Wars themed\")"
   ]
  },
  {
   "cell_type": "code",
   "execution_count": 301,
   "metadata": {},
   "outputs": [
    {
     "name": "stdout",
     "output_type": "stream",
     "text": [
      "Star Wars was not the most popular lego set in 2017\n"
     ]
    }
   ],
   "source": [
    "#Part 2\n",
    "#------\n",
    "\n",
    "#find most popular lego set by year\n",
    "most_popular_by_year = licensed.groupby(\"year\")['parent_theme'].agg({pd.Series.mode})\n",
    "\n",
    "#Find the year when star wars was not the most popular\n",
    "for index, value in most_popular_by_year.iterrows():\n",
    "    if str(value[0]) != 'Star Wars':\n",
    "        new_era = index\n",
    "\n",
    "#output\n",
    "print(\"Star Wars was not the most popular lego set in \" + str(new_era))"
   ]
  }
 ],
 "metadata": {
  "kernelspec": {
   "display_name": "Python 3",
   "language": "python",
   "name": "python3"
  },
  "language_info": {
   "codemirror_mode": {
    "name": "ipython",
    "version": 3
   },
   "file_extension": ".py",
   "mimetype": "text/x-python",
   "name": "python",
   "nbconvert_exporter": "python",
   "pygments_lexer": "ipython3",
   "version": "3.8.5"
  }
 },
 "nbformat": 4,
 "nbformat_minor": 4
}
