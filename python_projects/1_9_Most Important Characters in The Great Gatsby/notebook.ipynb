{
 "cells": [
  {
   "cell_type": "markdown",
   "metadata": {
    "id": "bA5ajAmk7XH6"
   },
   "source": [
    "# Most Important Characters in the Great Gatsby\n",
    "\n",
    "🏁 Use web scraping and NLP to find the most frequent words in one of the classic literature: The Great Gatsby by  F. Scott Fitzgerald.\n",
    "\n",
    "<img src=\"https://images-na.ssl-images-amazon.com/images/I/81Zub4W4bXL.jpg\">\n"
   ]
  },
  {
   "cell_type": "code",
   "execution_count": 1,
   "metadata": {},
   "outputs": [],
   "source": [
    "# import libraries\n",
    "import requests \n",
    "import nltk \n",
    "from bs4 import BeautifulSoup \n",
    "from collections import Counter \n",
    "import matplotlib.pyplot as plt\n",
    "import seaborn as sns\n",
    "import pandas as pd"
   ]
  },
  {
   "cell_type": "code",
   "execution_count": 2,
   "metadata": {},
   "outputs": [],
   "source": [
    "# retrieve the data through html get request\n",
    "r = requests.get('https://www.gutenberg.org/files/64317/64317-h/64317-h.htm')\n",
    "r.encoding = 'utf-8'\n",
    "html = r.text "
   ]
  },
  {
   "cell_type": "code",
   "execution_count": 3,
   "metadata": {},
   "outputs": [],
   "source": [
    "# convert the html data into a beautiful soup object \n",
    "soup = BeautifulSoup(html)\n",
    "text = soup.text # gets the text of the beautiful soup object"
   ]
  },
  {
   "cell_type": "code",
   "execution_count": 4,
   "metadata": {},
   "outputs": [],
   "source": [
    "# clean the text\n",
    "text = text[3167:]"
   ]
  },
  {
   "cell_type": "code",
   "execution_count": 5,
   "metadata": {},
   "outputs": [],
   "source": [
    "# use natural langauge toolkit to tokenize the data\n",
    "tokenizer = nltk.tokenize.RegexpTokenizer(\"\\w+\")\n",
    "tokens = tokenizer.tokenize(text)"
   ]
  },
  {
   "cell_type": "code",
   "execution_count": 6,
   "metadata": {},
   "outputs": [],
   "source": [
    "# convert the tokenized output into lowercase\n",
    "words = []\n",
    "\n",
    "for token in tokens:\n",
    "    words.append(token.lower())"
   ]
  },
  {
   "cell_type": "code",
   "execution_count": 7,
   "metadata": {},
   "outputs": [],
   "source": [
    "# find the stop words using natural language toolkit\n",
    "\n",
    "# download the stopwords package of nltk\n",
    "# nltk.download('stopwords')\n",
    "\n",
    "# sets the parameter for stopwords for the language english\n",
    "stop_words = nltk.corpus.stopwords.words(\"english\")"
   ]
  },
  {
   "cell_type": "code",
   "execution_count": 8,
   "metadata": {},
   "outputs": [],
   "source": [
    "# clean the data by removing the stop words \n",
    "words_clean = []\n",
    "\n",
    "for output in words:\n",
    "    if output not in stop_words:\n",
    "        words_clean.append(output)"
   ]
  },
  {
   "cell_type": "code",
   "execution_count": 9,
   "metadata": {},
   "outputs": [
    {
     "name": "stdout",
     "output_type": "stream",
     "text": [
      "[('gatsby', 263), ('said', 235), ('tom', 191), ('daisy', 186), ('one', 154), ('like', 121), ('man', 113), ('back', 108), ('came', 106), ('little', 102)]\n"
     ]
    }
   ],
   "source": [
    "# count and find the top 10 used words in the text\n",
    "count = Counter(words_clean)\n",
    "top_10_words = count.most_common(10)\n",
    "\n",
    "print(top_10_words)"
   ]
  },
  {
   "cell_type": "code",
   "execution_count": 10,
   "metadata": {},
   "outputs": [
    {
     "name": "stdout",
     "output_type": "stream",
     "text": [
      "['Gatsby', 'Tom', 'Daisy']\n"
     ]
    }
   ],
   "source": [
    "# find the name of characters from the top 10 words list\n",
    "protagonists = [\"Gatsby\", \"Tom\", \"Daisy\"]\n",
    "\n",
    "print(protagonists)"
   ]
  },
  {
   "cell_type": "code",
   "execution_count": 11,
   "metadata": {},
   "outputs": [
    {
     "data": {
      "text/plain": [
       "Text(0.5, 1.0, 'Top Ten Words')"
      ]
     },
     "execution_count": 11,
     "metadata": {},
     "output_type": "execute_result"
    },
    {
     "data": {
      "image/png": "[encoded data removed]",
      "text/plain": [
       "<Figure size 1080x504 with 1 Axes>"
      ]
     },
     "metadata": {},
     "output_type": "display_data"
    }
   ],
   "source": [
    "# visualize the top 10 words \n",
    "df = pd.DataFrame(top_10_words, columns = ['words', 'occurances'])\n",
    "sns.set_style('darkgrid')\n",
    "plt.figure(figsize=(15,7))\n",
    "sns.barplot(x='words', y='occurances', data = df, saturation = 0.9).set_title('Top Ten Words')"
   ]
  }
 ],
 "metadata": {
  "colab": {
   "name": "Welcome to DataCamp Workspaces.ipynb",
   "provenance": []
  },
  "kernelspec": {
   "display_name": "Python 3",
   "language": "python",
   "name": "python3"
  },
  "language_info": {
   "codemirror_mode": {
    "name": "ipython",
    "version": 3
   },
   "file_extension": ".py",
   "mimetype": "text/x-python",
   "name": "python",
   "nbconvert_exporter": "python",
   "pygments_lexer": "ipython3",
   "version": "3.8.5"
  }
 },
 "nbformat": 4,
 "nbformat_minor": 4
}
